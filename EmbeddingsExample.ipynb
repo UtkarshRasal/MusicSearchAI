{
  "cells": [
    {
      "cell_type": "markdown",
      "metadata": {
        "id": "view-in-github",
        "colab_type": "text"
      },
      "source": [
        "<a href=\"https://colab.research.google.com/github/UtkarshRasal/MusicSearchAI/blob/master/EmbeddingsExample.ipynb\" target=\"_parent\"><img src=\"https://colab.research.google.com/assets/colab-badge.svg\" alt=\"Open In Colab\"/></a>"
      ]
    },
    {
      "cell_type": "code",
      "source": [
        "import faiss\n",
        "import numpy as np\n",
        "import pandas as pd\n",
        "from sentence_transformers import SentenceTransformer\n",
        "\n",
        "# 1. Load sentence transformer model\n",
        "model = SentenceTransformer(\"sentence-transformers/all-MiniLM-L6-v2\")\n",
        "embedding_dim = 384  # dimensions of this model\n",
        "\n",
        "# 2. Sample documents (e.g., research paper abstracts)\n",
        "documents = [\n",
        "    {\"id\": \"doc1\", \"text\": \"Deep learning techniques applied to computer vision tasks.\"},\n",
        "    {\"id\": \"doc2\", \"text\": \"Quantum computing promises exponential speed-up for some problems.\"},\n",
        "    {\"id\": \"doc3\", \"text\": \"Natural language processing in healthcare applications.\"},\n",
        "]\n",
        "\n",
        "# 3. Create embeddings\n",
        "texts = [doc[\"text\"] for doc in documents]\n",
        "ids = [doc[\"id\"] for doc in documents]\n",
        "embeddings = model.encode(texts, convert_to_numpy=True)\n",
        "\n",
        "# 4. Create FAISS index\n",
        "index = faiss.IndexFlatL2(embedding_dim)  # L2 distance (Euclidean)\n",
        "index.add(embeddings)  # Store vectors\n",
        "\n",
        "# 5. Map vector index to document metadata\n",
        "id_map = {i: {\"id\": ids[i], \"text\": texts[i]} for i in range(len(ids))}\n",
        "\n",
        "# 6. Semantic search function\n",
        "def search(query, top_k=3):\n",
        "    query_vec = model.encode([query], convert_to_numpy=True)\n",
        "    D, I = index.search(query_vec, top_k)  # distances, indices\n",
        "    results = []\n",
        "    for score, idx in zip(D[0], I[0]):\n",
        "        results.append({\n",
        "            \"score\": float(score),\n",
        "            \"id\": id_map[idx][\"id\"],\n",
        "            \"text\": id_map[idx][\"text\"]\n",
        "        })\n",
        "    return results\n",
        "\n",
        "# 7. Try semantic search\n",
        "results = search(\"tasks\")\n",
        "for r in results:\n",
        "    print(f\"\\nID: {r['id']}\")\n",
        "    print(f\"Score: {r['score']:.4f}\")\n",
        "    print(f\"Text: {r['text']}\")\n"
      ],
      "metadata": {
        "id": "e6-kMy2IC41c",
        "outputId": "28937aa2-0560-455e-844c-14c456d6cf5d",
        "colab": {
          "base_uri": "https://localhost:8080/"
        }
      },
      "execution_count": 19,
      "outputs": [
        {
          "output_type": "stream",
          "name": "stdout",
          "text": [
            "\n",
            "ID: doc1\n",
            "Score: 1.4572\n",
            "Text: Deep learning techniques applied to computer vision tasks.\n",
            "\n",
            "ID: doc3\n",
            "Score: 1.6505\n",
            "Text: Natural language processing in healthcare applications.\n",
            "\n",
            "ID: doc2\n",
            "Score: 1.7976\n",
            "Text: Quantum computing promises exponential speed-up for some problems.\n"
          ]
        }
      ]
    },
    {
      "cell_type": "code",
      "source": [],
      "metadata": {
        "id": "G1xY81LZC5Qv"
      },
      "execution_count": null,
      "outputs": []
    }
  ],
  "metadata": {
    "colab": {
      "name": "Welcome To Colab",
      "toc_visible": true,
      "provenance": [],
      "include_colab_link": true
    },
    "kernelspec": {
      "display_name": "Python 3",
      "name": "python3"
    }
  },
  "nbformat": 4,
  "nbformat_minor": 0
}